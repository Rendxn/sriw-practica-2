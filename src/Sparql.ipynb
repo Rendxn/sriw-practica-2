{
 "cells": [
  {
   "cell_type": "markdown",
   "metadata": {},
   "source": [
    "## Configuración"
   ]
  },
  {
   "cell_type": "markdown",
   "metadata": {},
   "source": [
    "Instalación de librerias RDFLib y SPARQLWrapper"
   ]
  },
  {
   "cell_type": "code",
   "execution_count": 2,
   "metadata": {},
   "outputs": [
    {
     "name": "stdout",
     "output_type": "stream",
     "text": [
      "Requirement already satisfied: sparqlwrapper in c:\\python39\\lib\\site-packages (1.8.5)\n",
      "Requirement already satisfied: rdflib>=4.0 in c:\\python39\\lib\\site-packages (from sparqlwrapper) (6.0.2)\n",
      "Requirement already satisfied: setuptools in c:\\python39\\lib\\site-packages (from rdflib>=4.0->sparqlwrapper) (59.6.0)\n",
      "Requirement already satisfied: isodate in c:\\python39\\lib\\site-packages (from rdflib>=4.0->sparqlwrapper) (0.6.1)\n",
      "Requirement already satisfied: pyparsing in c:\\python39\\lib\\site-packages (from rdflib>=4.0->sparqlwrapper) (3.0.6)\n",
      "Requirement already satisfied: six in c:\\users\\srend\\appdata\\roaming\\python\\python39\\site-packages (from isodate->rdflib>=4.0->sparqlwrapper) (1.16.0)\n",
      "Note: you may need to restart the kernel to use updated packages.\n"
     ]
    },
    {
     "name": "stderr",
     "output_type": "stream",
     "text": [
      "WARNING: Ignoring invalid distribution -ip (c:\\python39\\lib\\site-packages)\n",
      "WARNING: Ignoring invalid distribution - (c:\\python39\\lib\\site-packages)\n",
      "WARNING: Ignoring invalid distribution -ip (c:\\python39\\lib\\site-packages)\n",
      "WARNING: Ignoring invalid distribution - (c:\\python39\\lib\\site-packages)\n",
      "WARNING: Ignoring invalid distribution -ip (c:\\python39\\lib\\site-packages)\n",
      "WARNING: Ignoring invalid distribution - (c:\\python39\\lib\\site-packages)\n",
      "WARNING: Ignoring invalid distribution -ip (c:\\python39\\lib\\site-packages)\n",
      "WARNING: Ignoring invalid distribution - (c:\\python39\\lib\\site-packages)\n",
      "WARNING: Ignoring invalid distribution -ip (c:\\python39\\lib\\site-packages)\n",
      "WARNING: Ignoring invalid distribution - (c:\\python39\\lib\\site-packages)\n"
     ]
    },
    {
     "name": "stdout",
     "output_type": "stream",
     "text": [
      "Requirement already satisfied: rdflib in c:\\python39\\lib\\site-packages (6.0.2)\n",
      "Requirement already satisfied: pyparsing in c:\\python39\\lib\\site-packages (from rdflib) (3.0.6)\n",
      "Requirement already satisfied: setuptools in c:\\python39\\lib\\site-packages (from rdflib) (59.6.0)\n",
      "Requirement already satisfied: isodate in c:\\python39\\lib\\site-packages (from rdflib) (0.6.1)\n",
      "Requirement already satisfied: six in c:\\users\\srend\\appdata\\roaming\\python\\python39\\site-packages (from isodate->rdflib) (1.16.0)\n",
      "Note: you may need to restart the kernel to use updated packages.\n"
     ]
    },
    {
     "name": "stderr",
     "output_type": "stream",
     "text": [
      "WARNING: Ignoring invalid distribution -ip (c:\\python39\\lib\\site-packages)\n",
      "WARNING: Ignoring invalid distribution - (c:\\python39\\lib\\site-packages)\n",
      "WARNING: Ignoring invalid distribution -ip (c:\\python39\\lib\\site-packages)\n",
      "WARNING: Ignoring invalid distribution - (c:\\python39\\lib\\site-packages)\n",
      "WARNING: Ignoring invalid distribution -ip (c:\\python39\\lib\\site-packages)\n",
      "WARNING: Ignoring invalid distribution - (c:\\python39\\lib\\site-packages)\n",
      "WARNING: Ignoring invalid distribution -ip (c:\\python39\\lib\\site-packages)\n",
      "WARNING: Ignoring invalid distribution - (c:\\python39\\lib\\site-packages)\n",
      "WARNING: Ignoring invalid distribution -ip (c:\\python39\\lib\\site-packages)\n",
      "WARNING: Ignoring invalid distribution - (c:\\python39\\lib\\site-packages)\n"
     ]
    }
   ],
   "source": [
    "%pip install sparqlwrapper\n",
    "%pip install rdflib"
   ]
  },
  {
   "cell_type": "markdown",
   "metadata": {},
   "source": [
    "Cargamos el grafo inicial"
   ]
  },
  {
   "cell_type": "code",
   "execution_count": 30,
   "metadata": {},
   "outputs": [],
   "source": [
    "from SPARQLWrapper import SPARQLWrapper, JSON, POST, DIGEST\n",
    "\n",
    "sparql = SPARQLWrapper('http://localhost:8890/sparql-auth')\n",
    "sparql.setReturnFormat(JSON)\n",
    "sparql.setHTTPAuth(DIGEST)\n",
    "sparql.setCredentials(\"dba\", \"password\")\n",
    "sparql.setMethod(POST)"
   ]
  },
  {
   "cell_type": "code",
   "execution_count": 3,
   "metadata": {},
   "outputs": [],
   "source": [
    "from rdflib import Graph, Namespace\n",
    "\n",
    "g = Graph()\n",
    "\n",
    "g.parse(\"data/Practica2_Computer_Qualification.owl\", format=\"ttl\")\n",
    "n = Namespace('http://www.computerqualification.com/')"
   ]
  },
  {
   "cell_type": "markdown",
   "metadata": {},
   "source": [
    "Registramos los namespaces de WikiData y DBPedia."
   ]
  },
  {
   "cell_type": "code",
   "execution_count": 61,
   "metadata": {},
   "outputs": [],
   "source": [
    "from rdflib import RDFS, XSD\n",
    "\n",
    "g.bind(\"rdfs\", RDFS)\n",
    "g.bind(\"xsd\", XSD)\n",
    "\n",
    "g.bind(\"wdt\", \"http://www.wikidata.org/prop/direct/\")\n",
    "g.bind(\"wd\", \"http://www.wikidata.org/entity/\")\n",
    "g.bind(\"wikibase\", \"http://wikiba.se/ontology#\")\n",
    "g.bind(\"bd\", \"http://www.bigdata.com/rdf#\")\n",
    "\n",
    "g.bind(\"dbo\", \"http://dbpedia.org/ontology/\")\n",
    "g.bind(\"dbr\", \"http://dbpedia.org/resource/\")\n",
    "g.bind(\"dbp\", \"http://dbpedia.org/property/\")\n",
    "g.bind(\"dbd\", \"http://dbpedia.org/datatype/\")\n"
   ]
  },
  {
   "cell_type": "markdown",
   "metadata": {},
   "source": [
    "## Helpers"
   ]
  },
  {
   "cell_type": "markdown",
   "metadata": {},
   "source": [
    "## Punto 1\n",
    "\n",
    "Implementar la ontología y sus instancias en Virtuoso implementando suficientes individuos para realizar las consultas a implementar. Configurar LodView para navegar con virtuoso. Este punto deberá el virtuoso estar instalado en un servidor web real para realizar los otros puntos de forma remota. (valor 1.0)"
   ]
  },
  {
   "cell_type": "markdown",
   "metadata": {},
   "source": [
    "## Punto 2\n",
    "Haciendo uso de la librería SPARQLWrapper y extendiendo la ontología desarrollada en el numeral anterior, implementar 4 consultas que integren en cada consulta información de la base de datos de virtuoso implementada en la práctica y las bases de datos DBPedia y wikidata. En las 4 consultas deberán hacer uso de los siguientes elementos de `SPARQL: ORDER BY, FILTER, UNION y OPTIONAL`. (Valor 2.0)"
   ]
  },
  {
   "cell_type": "markdown",
   "metadata": {},
   "source": [
    "### Consulta 1\n",
    "\n",
    "Consulta que trae los procesadores de WikiData (definidos como CPU - Q5300)"
   ]
  },
  {
   "cell_type": "code",
   "execution_count": 17,
   "metadata": {},
   "outputs": [
    {
     "name": "stdout",
     "output_type": "stream",
     "text": [
      "Item: http://www.wikidata.org/entity/Q3435064, Label: microSPARC, Freq: 40, Cores: 1\n",
      "Item: http://www.wikidata.org/entity/Q85219004, Label: AMD Ryzen Threadripper 3960X, Freq: 4.5, Cores: 24\n",
      "Item: http://www.wikidata.org/entity/Q28739510, Label: Core i7-6700, Freq: 4, Cores: 4\n",
      "Item: http://www.wikidata.org/entity/Q85219004, Label: AMD Ryzen Threadripper 3960X, Freq: 3.8, Cores: 24\n",
      "Item: http://www.wikidata.org/entity/Q28973026, Label: Core i7-7700T, Freq: 3.8, Cores: 4\n",
      "Item: http://www.wikidata.org/entity/Q83192447, Label: Intel Xeon 6152, Freq: 3.7, Cores: 22\n",
      "Item: http://www.wikidata.org/entity/Q108538088, Label: Intel Core i5-6440HQ, Freq: 3.5, Cores: 4\n",
      "Item: http://www.wikidata.org/entity/Q98614836, Label: Intel Core i5 8250U, Freq: 3.4, Cores: 4\n",
      "Item: http://www.wikidata.org/entity/Q28739510, Label: Core i7-6700, Freq: 3.4, Cores: 4\n",
      "Item: http://www.wikidata.org/entity/Q98611825, Label: Intel Core i5-7200U, Freq: 3.1, Cores: 2\n",
      "Item: http://www.wikidata.org/entity/Q83191886, Label: Intel Xeon E5-2660, Freq: 3, Cores: 8\n",
      "Item: http://www.wikidata.org/entity/Q28973026, Label: Core i7-7700T, Freq: 2.9, Cores: 4\n",
      "Item: http://www.wikidata.org/entity/Q108538088, Label: Intel Core i5-6440HQ, Freq: 2.6, Cores: 4\n",
      "Item: http://www.wikidata.org/entity/Q98611825, Label: Intel Core i5-7200U, Freq: 2.5, Cores: 2\n",
      "Item: http://www.wikidata.org/entity/Q83191886, Label: Intel Xeon E5-2660, Freq: 2.2, Cores: 8\n",
      "Item: http://www.wikidata.org/entity/Q83192447, Label: Intel Xeon 6152, Freq: 2.1, Cores: 22\n",
      "Item: http://www.wikidata.org/entity/Q98614836, Label: Intel Core i5 8250U, Freq: 1.6, Cores: 4\n"
     ]
    }
   ],
   "source": [
    "q1 = \"\"\"\n",
    "SELECT ?item ?itemLabel ?cores ?freq\n",
    "{\n",
    "    SERVICE <https://query.wikidata.org/sparql> {\n",
    "        ?item wdt:P31 wd:Q5300.\n",
    "        ?item wdt:P1141 ?cores.\n",
    "        ?item wdt:P2149 ?freq.\n",
    "        ?item rdfs:label ?itemLabel\n",
    "        FILTER(LANG(?itemLabel) = 'en')\n",
    "    }\n",
    "} ORDER BY DESC(?freq)\n",
    "\"\"\"\n",
    "\n",
    "res1 = g.query(q1)\n",
    "\n",
    "for row in res1:\n",
    "    print(f\"Item: {row.item}, Label: {row.itemLabel}, Freq: {row.freq}, Cores: {row.cores}\")"
   ]
  },
  {
   "cell_type": "markdown",
   "metadata": {},
   "source": [
    "### Consulta 2\n",
    "\n",
    "Consulta que trae los módulos de memoria RAM desde WikiData."
   ]
  },
  {
   "cell_type": "code",
   "execution_count": 20,
   "metadata": {},
   "outputs": [
    {
     "name": "stdout",
     "output_type": "stream",
     "text": [
      "Item: http://www.wikidata.org/entity/Q3011238, Label: DIMM board\n",
      "Item: http://www.wikidata.org/entity/Q7268276, Label: Quad Data Rate SRAM\n",
      "Item: http://www.wikidata.org/entity/Q7268276, Label: QDR SDRAM\n"
     ]
    }
   ],
   "source": [
    "q2 = \"\"\"\n",
    "SELECT ?item ?itemLabel\n",
    "{\n",
    "    SERVICE <https://query.wikidata.org/sparql> {\n",
    "        ?item wdt:P31 wd:Q5295.\n",
    "        ?item rdfs:label ?itemLabel.\n",
    "    }\n",
    "}\n",
    "\"\"\"\n",
    "\n",
    "res2 = g.query(q2)\n",
    "\n",
    "for row in res2:\n",
    "    print(f\"Item: {row.item}, Label: {row.itemLabel}\")"
   ]
  },
  {
   "cell_type": "markdown",
   "metadata": {},
   "source": [
    "### Consulta 3\n",
    "\n",
    "Consulta que "
   ]
  },
  {
   "cell_type": "code",
   "execution_count": 29,
   "metadata": {},
   "outputs": [
    {
     "name": "stdout",
     "output_type": "stream",
     "text": [
      "Item: http://www.wikidata.org/entity/Q42530222, Label: Google Pixelbook, CPU: Intel Core i7, Manufacturer: Google\n",
      "Item: http://www.wikidata.org/entity/Q42530222, Label: Google Pixelbook, CPU: Intel Core i7, Manufacturer: Google\n",
      "Item: http://www.wikidata.org/entity/Q42530222, Label: Google Pixelbook, CPU: Intel Core i5, Manufacturer: Google\n",
      "Item: http://www.wikidata.org/entity/Q42530222, Label: Google Pixelbook, CPU: Intel Core i5, Manufacturer: Google\n",
      "Item: http://www.wikidata.org/entity/Q78982844, Label: MacBook Pro 16-inch, CPU: Intel Core i7, Manufacturer: Apple Inc.\n",
      "Item: http://www.wikidata.org/entity/Q78982844, Label: MacBook Pro 16-inch, CPU: Intel Core i7, Manufacturer: Apple Inc.\n",
      "Item: http://www.wikidata.org/entity/Q78982844, Label: MacBook Pro 16-inch, CPU: Intel Core i7, Manufacturer: Apple Inc.\n",
      "Item: http://www.wikidata.org/entity/Q78982844, Label: MacBook Pro 16-inch, CPU: Gulftown, Manufacturer: Apple Inc.\n",
      "Item: http://www.wikidata.org/entity/Q78982844, Label: MacBook Pro 16-inch, CPU: Gulftown, Manufacturer: Apple Inc.\n",
      "Item: http://www.wikidata.org/entity/Q78982844, Label: MacBook Pro 16-inch, CPU: Gulftown, Manufacturer: Apple Inc.\n",
      "Item: http://www.wikidata.org/entity/Q78982844, Label: MacBook Pro 16-inch, CPU: Intel Core i9, Manufacturer: Apple Inc.\n",
      "Item: http://www.wikidata.org/entity/Q78982844, Label: MacBook Pro 16-inch, CPU: Intel Core i9, Manufacturer: Apple Inc.\n",
      "Item: http://www.wikidata.org/entity/Q78982844, Label: MacBook Pro 16-inch, CPU: Intel Core i9, Manufacturer: Apple Inc.\n"
     ]
    }
   ],
   "source": [
    "q3 = \"\"\"\n",
    "SELECT ?laptop ?laptopLabel ?manufacturerLabel ?cpuLabel ?ram\n",
    "{\n",
    "    SERVICE <https://query.wikidata.org/sparql> {\n",
    "        ?laptop wdt:P31 wd:Q3962.\n",
    "        ?laptop wdt:P176 ?manufacturer.\n",
    "        ?laptop wdt:P880 ?cpu.\n",
    "        ?laptop wdt:P2928 ?ram.\n",
    "        ?laptop rdfs:label ?laptopLabel.\n",
    "        ?manufacturer rdfs:label ?manufacturerLabel.\n",
    "        ?cpu rdfs:label ?cpuLabel.\n",
    "        FILTER(LANG(?laptopLabel) = 'en' && LANG(?cpuLabel) = 'en' && LANG(?manufacturerLabel) = 'en')\n",
    "    }\n",
    "}\n",
    "\"\"\"\n",
    "\n",
    "res3 = g.query(q3)\n",
    "\n",
    "for row in res3:\n",
    "    print(f\"Item: {row.laptop}, Label: {row.laptopLabel}, CPU: {row.cpuLabel}, Manufacturer: {row.manufacturerLabel}\")"
   ]
  },
  {
   "cell_type": "markdown",
   "metadata": {},
   "source": [
    "### Consulta 4\n",
    "\n",
    "Consulta a DBPedia Laptops."
   ]
  },
  {
   "cell_type": "code",
   "execution_count": 67,
   "metadata": {},
   "outputs": [
    {
     "name": "stdout",
     "output_type": "stream",
     "text": [
      "Laptop: Samsung Sens, CPU: List of Intel Core i5 processors, RAM: None, Storage: None\n",
      "Laptop: Samsung Sens, CPU: Intel Core, RAM: None, Storage: None\n",
      "Laptop: Samsung Sens, CPU: List of Intel Core i7 processors, RAM: None, Storage: None\n",
      "Laptop: Samsung Sens, CPU: Intel Core, RAM: None, Storage: M.2 SATA3\n",
      "Laptop: Samsung Sens, CPU: List of Intel Core i7 processors, RAM: None, Storage: SATA\n",
      "Laptop: Samsung Sens, CPU: List of Intel Core i7 processors, RAM: None, Storage: M.2 SATA3\n",
      "Laptop: Samsung Sens, CPU: List of Intel Core i5 processors, RAM: None, Storage: SATA\n",
      "Laptop: Samsung Sens, CPU: Intel Core, RAM: None, Storage: SATA\n",
      "Laptop: Samsung Sens, CPU: List of Intel Core i5 processors, RAM: None, Storage: M.2 SATA3\n",
      "Laptop: Toshiba Satellite, CPU: Pentium, RAM: None, Storage: None\n",
      "Laptop: Toshiba Satellite, CPU: Celeron, RAM: None, Storage: None\n",
      "Laptop: Acer Aspire laptops, CPU: Celeron, RAM: None, Storage: None\n",
      "Laptop: Acer Aspire laptops, CPU: Celeron, RAM: DDR4, Storage: None\n",
      "Laptop: Acer Aspire laptops, CPU: Celeron, RAM: Up to 32 GB, Storage: None\n",
      "Laptop: Acer Aspire laptops, CPU: Pentium, RAM: None, Storage: None\n",
      "Laptop: Acer Aspire laptops, CPU: Pentium, RAM: DDR4, Storage: None\n",
      "Laptop: Acer Aspire laptops, CPU: Pentium, RAM: Up to 32 GB, Storage: None\n",
      "Laptop: Toshiba T3100, CPU: Intel 80286, RAM: None, Storage: None\n",
      "Laptop: Toshiba T3100, CPU: Intel 80286, RAM: , Storage: None\n",
      "Laptop: Bondwell-2, CPU: Zilog, RAM: None, Storage: None\n",
      "Laptop: Epson PX-8 Geneva, CPU: Zilog Z80, RAM: None, Storage: built-in microcassette drive\n",
      "Laptop: Huawei MateBook series, CPU: Intel, RAM: None, Storage: None\n",
      "Laptop: IdeaPad, CPU: List of Intel Core i5 processors, RAM: None, Storage: None\n",
      "Laptop: IdeaPad, CPU: AMD Accelerated Processing Unit, RAM: None, Storage: None\n",
      "Laptop: IdeaPad, CPU: List of Intel Core i3 processors, RAM: None, Storage: None\n",
      "Laptop: IdeaPad, CPU: Ryzen, RAM: None, Storage: None\n",
      "Laptop: IdeaPad, CPU: List of Intel Core i7 processors, RAM: None, Storage: None\n",
      "Laptop: HP Pavilion, CPU: List of Intel Core i3 processors, RAM: None, Storage: None\n",
      "Laptop: HP Pavilion, CPU: Celeron, RAM: None, Storage: None\n",
      "Laptop: HP Pavilion, CPU: List of Intel Core i7 processors, RAM: None, Storage: None\n",
      "Laptop: HP Pavilion, CPU: AMD Accelerated Processing Unit, RAM: None, Storage: None\n",
      "Laptop: HP Pavilion, CPU: Pentium, RAM: None, Storage: None\n",
      "Laptop: HP Pavilion, CPU: List of Intel Core i5 processors, RAM: None, Storage: None\n",
      "Laptop: Compaq Presario R3000, CPU: Pentium 4, RAM: None, Storage: None\n",
      "Laptop: Compaq Presario R3000, CPU: Athlon, RAM: None, Storage: None\n",
      "Laptop: Compaq Presario R3000, CPU: Celeron, RAM: None, Storage: None\n",
      "Laptop: Surface Laptop, CPU: Kaby Lake, RAM: None, Storage: None\n",
      "Laptop: Surface Laptop 2, CPU: List of Intel Core i7 processors, RAM: None, Storage: None\n",
      "Laptop: Surface Laptop 2, CPU: List of Intel Core i5 processors, RAM: None, Storage: None\n",
      "Laptop: Surface Laptop 3, CPU: List of Intel Core i5 processors, RAM: None, Storage: None\n",
      "Laptop: Surface Laptop 3, CPU: List of Intel Core i7 processors, RAM: None, Storage: None\n",
      "Laptop: Surface Laptop 3, CPU: Ryzen, RAM: None, Storage: None\n",
      "Laptop: Surface Laptop 4, CPU: List of Intel Core i5 processors, RAM: None, Storage: None\n",
      "Laptop: Surface Laptop 4, CPU: List of Intel Core i7 processors, RAM: None, Storage: None\n",
      "Laptop: Surface Laptop 4, CPU: Ryzen, RAM: None, Storage: None\n",
      "Laptop: Surface Laptop Go, CPU: List of Intel Core i5 processors, RAM: None, Storage: SSD: 128 GB, 256 GB\n",
      "Laptop: Surface Laptop Go, CPU: List of Intel Core i5 processors, RAM: None, Storage: eMMC: 64 GB\n"
     ]
    }
   ],
   "source": [
    "q4 = \"\"\"\n",
    "SELECT DISTINCT ?computer ?label ?cpu ?cpuLabel ?memoryRam ?storage\n",
    "{\n",
    "    SERVICE <https://dbpedia.org/sparql> {\n",
    "        ?computer dbo:type dbr:Laptop.\n",
    "        ?computer rdfs:label ?label.\n",
    "        ?computer dbo:cpu ?cpu.\n",
    "        ?cpu rdfs:label ?cpuLabel.\n",
    "        ?computer dbp:storage ?storage.\n",
    "        OPTIONAL {\n",
    "            ?computer dbp:memory ?memoryRam\n",
    "        }\n",
    "        FILTER(LANG(?label) = 'en' && LANG(?cpuLabel) = 'en')\n",
    "    }\n",
    "} LIMIT 50\n",
    "\"\"\"\n",
    "\n",
    "res4 = g.query(q4)\n",
    "\n",
    "for row in res4:\n",
    "    print(f\"Laptop: {row.label}, CPU: {row.cpuLabel}, RAM: {row.memoryRam}, Storage: {row.storage}\")"
   ]
  },
  {
   "cell_type": "markdown",
   "metadata": {},
   "source": [
    "## Punto 3\n",
    "\n",
    "Haciendo uso de las librerías SPARQLWrapper y rdflib implementar 2 consultas de actualización a la base de datos implementada en virtuoso con datos provenientes de DBPedia y\n",
    "Wikidata. Aquí se debe hacer una consulta sparql a Dbpedia y otra a Wikidata e insertar para cada una la información a su base de conocimiento en Virtuoso (valor 1.0)"
   ]
  },
  {
   "cell_type": "markdown",
   "metadata": {},
   "source": [
    "## Punto 4\n",
    "\n",
    "Tomar su ontología desarrollada con sus instancias y cargarlas propiamente en el modelo de datos de rdflib e implementar 2 consultas haciendo uso de la librería rdflib, es decir, se deberá navegar por los nodos y obtener programáticamente cada consulta. (valor 1.0)"
   ]
  },
  {
   "cell_type": "code",
   "execution_count": 39,
   "metadata": {},
   "outputs": [
    {
     "name": "stdout",
     "output_type": "stream",
     "text": [
      "http://www.computerqualification.com/IntelPentium is CPU family http://www.computerqualification.com/IntelCoreI3\n"
     ]
    }
   ],
   "source": [
    "def getFamily(what: str):\n",
    "  for s, p, o in g.triples((what, n.Has_CPU_Family, None)):\n",
    "    print(f\"{s} is CPU family {o}\")\n",
    "\n",
    "getFamily(n.IntelPentium)"
   ]
  },
  {
   "cell_type": "code",
   "execution_count": 44,
   "metadata": {},
   "outputs": [
    {
     "name": "stdout",
     "output_type": "stream",
     "text": [
      "http://www.computerqualification.com/Asus_Vivobook está clasificado como http://www.computerqualification.com/Mid_Range_computer\n",
      "http://www.computerqualification.com/Asus_X515EA está clasificado como http://www.computerqualification.com/Mid_Range_computer\n",
      "http://www.computerqualification.com/Dell_Inspiron está clasificado como http://www.computerqualification.com/Mid_Range_computer\n",
      "http://www.computerqualification.com/HP_240G7 está clasificado como http://www.computerqualification.com/Mid_Range_computer\n"
     ]
    }
   ],
   "source": [
    "def getByRange(range: str): \n",
    "    for s, p, o in g.triples((None, None, range)):\n",
    "        print(f\"{s} está clasificado como {range}\")\n",
    "\n",
    "getByRange(n.Mid_Range_computer)"
   ]
  },
  {
   "cell_type": "code",
   "execution_count": 46,
   "metadata": {},
   "outputs": [
    {
     "name": "stdout",
     "output_type": "stream",
     "text": [
      "http://www.w3.org/1999/02/22-rdf-syntax-ns#type: http://www.w3.org/2002/07/owl#NamedIndividual\n",
      "http://www.w3.org/1999/02/22-rdf-syntax-ns#type: http://www.computerqualification.com/QualityCPU\n",
      "http://www.computerqualification.com/Has_Competitor: http://www.computerqualification.com/Ryzen7_4800H\n",
      "http://cookingbigdata.com/linkeddata/ccinstances#cpu_cores: 8\n",
      "http://cookingbigdata.com/linkeddata/ccinstances#cpu_frecuency: 4.3\n",
      "http://www.w3.org/2000/01/rdf-schema#label: Intel Core I7\n"
     ]
    }
   ],
   "source": [
    "def getProperties(what: str):\n",
    "    for s, p, o in g.triples((what, None, None)):\n",
    "        print(f\"{p}: {o}\")\n",
    "\n",
    "getProperties(n.IntelCoreI7)"
   ]
  }
 ],
 "metadata": {
  "interpreter": {
   "hash": "63fd5069d213b44bf678585dea6b12cceca9941eaf7f819626cde1f2670de90d"
  },
  "kernelspec": {
   "display_name": "Python 3.9.7 64-bit",
   "language": "python",
   "name": "python3"
  },
  "language_info": {
   "codemirror_mode": {
    "name": "ipython",
    "version": 3
   },
   "file_extension": ".py",
   "mimetype": "text/x-python",
   "name": "python",
   "nbconvert_exporter": "python",
   "pygments_lexer": "ipython3",
   "version": "3.9.7"
  },
  "orig_nbformat": 4
 },
 "nbformat": 4,
 "nbformat_minor": 2
}
